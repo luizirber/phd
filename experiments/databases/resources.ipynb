{
 "cells": [
  {
   "cell_type": "markdown",
   "metadata": {},
   "source": [
    "# Indexing"
   ]
  },
  {
   "cell_type": "code",
   "execution_count": 2,
   "metadata": {},
   "outputs": [],
   "source": [
    "%matplotlib inline\n",
    "%config InlineBackend.close_figures = False\n",
    "\n",
    "from pathlib import Path\n",
    "\n",
    "import numpy as np\n",
    "import pandas as pd\n",
    "from IPython.display import Image\n",
    "import matplotlib.pyplot as plt\n",
    "import seaborn as sns\n",
    "from ficus import FigureManager\n",
    "\n",
    "sns.set()\n",
    "sns.set_palette(\"tab10\")"
   ]
  },
  {
   "cell_type": "code",
   "execution_count": 66,
   "metadata": {},
   "outputs": [],
   "source": [
    "all_resources = []\n",
    "\n",
    "lca_sizes = dict(l.split() for l in Path(\"lca_sizes\").read_text().split('\\n') if l)\n",
    "sbt_sizes = dict(l.split() for l in Path(\"sbt_sizes\").read_text().split('\\n') if l)\n",
    "\n",
    "for domain in ('archaea', 'bacteria', 'fungi', 'protozoa', 'viral'):\n",
    "    for index in (\"lca\", \"sbt\"):\n",
    "        for k in (21, 31, 51):\n",
    "            for source in (\"genbank\", \"refseq\"):\n",
    "                if index == 'sbt':\n",
    "                    for bf in [4]: #(5, 6):\n",
    "                        try:\n",
    "                            d = pd.read_table(f\"farm_bench/sbt/{source}-{domain}-x1e{bf}-k{k}.txt\")\n",
    "                            d['bf'] = bf\n",
    "                            d['size_MB'] = int(sbt_sizes[f'outputs/sbt/{source}-{domain}-x1e{bf}-k{k}.sbt.zip']) / 1024\n",
    "                        except FileNotFoundError as e:\n",
    "                            print(f\"file not found: {e}\")\n",
    "                else:\n",
    "                    d = pd.read_table(f\"farm_bench/lca/{source}-{domain}-k{k}.txt\")\n",
    "                    d['bf'] = np.nan\n",
    "                    d['size_MB'] = int(lca_sizes[f'outputs/lca/{source}-{domain}-k{k}-scaled10k.lca.json.gz']) / 1024\n",
    "\n",
    "                d['domain'] = domain\n",
    "                d['index'] = index\n",
    "                d['source'] = source\n",
    "                d['k'] = k\n",
    "                all_resources.append(d)"
   ]
  },
  {
   "cell_type": "code",
   "execution_count": 67,
   "metadata": {},
   "outputs": [],
   "source": [
    "full = pd.concat(all_resources, ignore_index=True)"
   ]
  },
  {
   "cell_type": "code",
   "execution_count": 68,
   "metadata": {},
   "outputs": [
    {
     "data": {
      "text/html": [
       "<div>\n",
       "<style scoped>\n",
       "    .dataframe tbody tr th:only-of-type {\n",
       "        vertical-align: middle;\n",
       "    }\n",
       "\n",
       "    .dataframe tbody tr th {\n",
       "        vertical-align: top;\n",
       "    }\n",
       "\n",
       "    .dataframe thead th {\n",
       "        text-align: right;\n",
       "    }\n",
       "</style>\n",
       "<table border=\"1\" class=\"dataframe\">\n",
       "  <thead>\n",
       "    <tr style=\"text-align: right;\">\n",
       "      <th></th>\n",
       "      <th>s</th>\n",
       "      <th>h:m:s</th>\n",
       "      <th>max_rss</th>\n",
       "      <th>max_vms</th>\n",
       "      <th>max_uss</th>\n",
       "      <th>max_pss</th>\n",
       "      <th>io_in</th>\n",
       "      <th>io_out</th>\n",
       "      <th>mean_load</th>\n",
       "      <th>bf</th>\n",
       "      <th>size_MB</th>\n",
       "      <th>domain</th>\n",
       "      <th>index</th>\n",
       "      <th>source</th>\n",
       "      <th>k</th>\n",
       "    </tr>\n",
       "  </thead>\n",
       "  <tbody>\n",
       "    <tr>\n",
       "      <th>36</th>\n",
       "      <td>230.5689</td>\n",
       "      <td>0:03:50</td>\n",
       "      <td>3.26</td>\n",
       "      <td>11.45</td>\n",
       "      <td>0.03</td>\n",
       "      <td>0.59</td>\n",
       "      <td>0.0</td>\n",
       "      <td>0.00</td>\n",
       "      <td>0.00</td>\n",
       "      <td>NaN</td>\n",
       "      <td>16.961914</td>\n",
       "      <td>protozoa</td>\n",
       "      <td>lca</td>\n",
       "      <td>genbank</td>\n",
       "      <td>21</td>\n",
       "    </tr>\n",
       "    <tr>\n",
       "      <th>37</th>\n",
       "      <td>39.7093</td>\n",
       "      <td>0:00:39</td>\n",
       "      <td>1.82</td>\n",
       "      <td>19.61</td>\n",
       "      <td>0.38</td>\n",
       "      <td>0.82</td>\n",
       "      <td>0.0</td>\n",
       "      <td>0.00</td>\n",
       "      <td>0.00</td>\n",
       "      <td>NaN</td>\n",
       "      <td>2.043945</td>\n",
       "      <td>protozoa</td>\n",
       "      <td>lca</td>\n",
       "      <td>refseq</td>\n",
       "      <td>21</td>\n",
       "    </tr>\n",
       "    <tr>\n",
       "      <th>38</th>\n",
       "      <td>206.2120</td>\n",
       "      <td>0:03:26</td>\n",
       "      <td>3.32</td>\n",
       "      <td>11.45</td>\n",
       "      <td>0.14</td>\n",
       "      <td>0.57</td>\n",
       "      <td>0.0</td>\n",
       "      <td>0.00</td>\n",
       "      <td>0.00</td>\n",
       "      <td>NaN</td>\n",
       "      <td>18.800781</td>\n",
       "      <td>protozoa</td>\n",
       "      <td>lca</td>\n",
       "      <td>genbank</td>\n",
       "      <td>31</td>\n",
       "    </tr>\n",
       "    <tr>\n",
       "      <th>39</th>\n",
       "      <td>15.8309</td>\n",
       "      <td>0:00:15</td>\n",
       "      <td>166.79</td>\n",
       "      <td>186.30</td>\n",
       "      <td>158.69</td>\n",
       "      <td>161.64</td>\n",
       "      <td>0.0</td>\n",
       "      <td>1.00</td>\n",
       "      <td>94.29</td>\n",
       "      <td>NaN</td>\n",
       "      <td>2.191406</td>\n",
       "      <td>protozoa</td>\n",
       "      <td>lca</td>\n",
       "      <td>refseq</td>\n",
       "      <td>31</td>\n",
       "    </tr>\n",
       "    <tr>\n",
       "      <th>40</th>\n",
       "      <td>233.3709</td>\n",
       "      <td>0:03:53</td>\n",
       "      <td>3.52</td>\n",
       "      <td>11.45</td>\n",
       "      <td>0.39</td>\n",
       "      <td>0.80</td>\n",
       "      <td>0.0</td>\n",
       "      <td>0.00</td>\n",
       "      <td>0.00</td>\n",
       "      <td>NaN</td>\n",
       "      <td>20.469727</td>\n",
       "      <td>protozoa</td>\n",
       "      <td>lca</td>\n",
       "      <td>genbank</td>\n",
       "      <td>51</td>\n",
       "    </tr>\n",
       "    <tr>\n",
       "      <th>41</th>\n",
       "      <td>18.6991</td>\n",
       "      <td>0:00:18</td>\n",
       "      <td>6.15</td>\n",
       "      <td>21.89</td>\n",
       "      <td>1.16</td>\n",
       "      <td>2.71</td>\n",
       "      <td>0.0</td>\n",
       "      <td>0.00</td>\n",
       "      <td>0.00</td>\n",
       "      <td>NaN</td>\n",
       "      <td>2.305664</td>\n",
       "      <td>protozoa</td>\n",
       "      <td>lca</td>\n",
       "      <td>refseq</td>\n",
       "      <td>51</td>\n",
       "    </tr>\n",
       "    <tr>\n",
       "      <th>42</th>\n",
       "      <td>205.9419</td>\n",
       "      <td>0:03:25</td>\n",
       "      <td>753.08</td>\n",
       "      <td>780.25</td>\n",
       "      <td>744.33</td>\n",
       "      <td>745.78</td>\n",
       "      <td>0.0</td>\n",
       "      <td>169.25</td>\n",
       "      <td>94.71</td>\n",
       "      <td>4.0</td>\n",
       "      <td>302.170898</td>\n",
       "      <td>protozoa</td>\n",
       "      <td>sbt</td>\n",
       "      <td>genbank</td>\n",
       "      <td>21</td>\n",
       "    </tr>\n",
       "    <tr>\n",
       "      <th>43</th>\n",
       "      <td>16.6860</td>\n",
       "      <td>0:00:16</td>\n",
       "      <td>79.09</td>\n",
       "      <td>107.03</td>\n",
       "      <td>70.29</td>\n",
       "      <td>71.73</td>\n",
       "      <td>0.0</td>\n",
       "      <td>19.50</td>\n",
       "      <td>95.24</td>\n",
       "      <td>4.0</td>\n",
       "      <td>21.116211</td>\n",
       "      <td>protozoa</td>\n",
       "      <td>sbt</td>\n",
       "      <td>refseq</td>\n",
       "      <td>21</td>\n",
       "    </tr>\n",
       "    <tr>\n",
       "      <th>44</th>\n",
       "      <td>218.2314</td>\n",
       "      <td>0:03:38</td>\n",
       "      <td>770.37</td>\n",
       "      <td>797.81</td>\n",
       "      <td>761.66</td>\n",
       "      <td>763.10</td>\n",
       "      <td>0.0</td>\n",
       "      <td>8.97</td>\n",
       "      <td>89.13</td>\n",
       "      <td>4.0</td>\n",
       "      <td>315.385742</td>\n",
       "      <td>protozoa</td>\n",
       "      <td>sbt</td>\n",
       "      <td>genbank</td>\n",
       "      <td>31</td>\n",
       "    </tr>\n",
       "    <tr>\n",
       "      <th>45</th>\n",
       "      <td>19.1862</td>\n",
       "      <td>0:00:19</td>\n",
       "      <td>80.91</td>\n",
       "      <td>109.48</td>\n",
       "      <td>72.16</td>\n",
       "      <td>73.57</td>\n",
       "      <td>0.0</td>\n",
       "      <td>0.00</td>\n",
       "      <td>83.38</td>\n",
       "      <td>4.0</td>\n",
       "      <td>21.967773</td>\n",
       "      <td>protozoa</td>\n",
       "      <td>sbt</td>\n",
       "      <td>refseq</td>\n",
       "      <td>31</td>\n",
       "    </tr>\n",
       "    <tr>\n",
       "      <th>46</th>\n",
       "      <td>255.2493</td>\n",
       "      <td>0:04:15</td>\n",
       "      <td>740.42</td>\n",
       "      <td>767.79</td>\n",
       "      <td>731.68</td>\n",
       "      <td>733.12</td>\n",
       "      <td>0.0</td>\n",
       "      <td>0.00</td>\n",
       "      <td>88.04</td>\n",
       "      <td>4.0</td>\n",
       "      <td>326.114258</td>\n",
       "      <td>protozoa</td>\n",
       "      <td>sbt</td>\n",
       "      <td>genbank</td>\n",
       "      <td>51</td>\n",
       "    </tr>\n",
       "    <tr>\n",
       "      <th>47</th>\n",
       "      <td>19.4538</td>\n",
       "      <td>0:00:19</td>\n",
       "      <td>82.59</td>\n",
       "      <td>111.68</td>\n",
       "      <td>73.95</td>\n",
       "      <td>75.36</td>\n",
       "      <td>0.0</td>\n",
       "      <td>0.00</td>\n",
       "      <td>82.38</td>\n",
       "      <td>4.0</td>\n",
       "      <td>22.706055</td>\n",
       "      <td>protozoa</td>\n",
       "      <td>sbt</td>\n",
       "      <td>refseq</td>\n",
       "      <td>51</td>\n",
       "    </tr>\n",
       "  </tbody>\n",
       "</table>\n",
       "</div>"
      ],
      "text/plain": [
       "           s    h:m:s  max_rss  max_vms  max_uss  max_pss  io_in  io_out  \\\n",
       "36  230.5689  0:03:50     3.26    11.45     0.03     0.59    0.0    0.00   \n",
       "37   39.7093  0:00:39     1.82    19.61     0.38     0.82    0.0    0.00   \n",
       "38  206.2120  0:03:26     3.32    11.45     0.14     0.57    0.0    0.00   \n",
       "39   15.8309  0:00:15   166.79   186.30   158.69   161.64    0.0    1.00   \n",
       "40  233.3709  0:03:53     3.52    11.45     0.39     0.80    0.0    0.00   \n",
       "41   18.6991  0:00:18     6.15    21.89     1.16     2.71    0.0    0.00   \n",
       "42  205.9419  0:03:25   753.08   780.25   744.33   745.78    0.0  169.25   \n",
       "43   16.6860  0:00:16    79.09   107.03    70.29    71.73    0.0   19.50   \n",
       "44  218.2314  0:03:38   770.37   797.81   761.66   763.10    0.0    8.97   \n",
       "45   19.1862  0:00:19    80.91   109.48    72.16    73.57    0.0    0.00   \n",
       "46  255.2493  0:04:15   740.42   767.79   731.68   733.12    0.0    0.00   \n",
       "47   19.4538  0:00:19    82.59   111.68    73.95    75.36    0.0    0.00   \n",
       "\n",
       "    mean_load   bf     size_MB    domain index   source   k  \n",
       "36       0.00  NaN   16.961914  protozoa   lca  genbank  21  \n",
       "37       0.00  NaN    2.043945  protozoa   lca   refseq  21  \n",
       "38       0.00  NaN   18.800781  protozoa   lca  genbank  31  \n",
       "39      94.29  NaN    2.191406  protozoa   lca   refseq  31  \n",
       "40       0.00  NaN   20.469727  protozoa   lca  genbank  51  \n",
       "41       0.00  NaN    2.305664  protozoa   lca   refseq  51  \n",
       "42      94.71  4.0  302.170898  protozoa   sbt  genbank  21  \n",
       "43      95.24  4.0   21.116211  protozoa   sbt   refseq  21  \n",
       "44      89.13  4.0  315.385742  protozoa   sbt  genbank  31  \n",
       "45      83.38  4.0   21.967773  protozoa   sbt   refseq  31  \n",
       "46      88.04  4.0  326.114258  protozoa   sbt  genbank  51  \n",
       "47      82.38  4.0   22.706055  protozoa   sbt   refseq  51  "
      ]
     },
     "execution_count": 68,
     "metadata": {},
     "output_type": "execute_result"
    }
   ],
   "source": [
    "full.query('domain==\"protozoa\"')"
   ]
  },
  {
   "cell_type": "code",
   "execution_count": 69,
   "metadata": {},
   "outputs": [
    {
     "name": "stdout",
     "output_type": "stream",
     "text": [
      "| domain   | s      |   max_rss |   size_MB |\n",
      "|:---------|:-------|----------:|----------:|\n",
      "| viral    | 57     |        33 |         2 |\n",
      "| archaea  | 58     |        30 |         5 |\n",
      "| protozoa | 231    |         3 |        17 |\n",
      "| fungi    | 999    |         3 |        65 |\n",
      "| bacteria | 12,717 |       857 |       446 |\n"
     ]
    }
   ],
   "source": [
    "print(full.query('source==\"genbank\" & k==21 & index==\"lca\"')\n",
    "     .set_index([\"domain\"])[['s', 'max_rss', 'size_MB']]\n",
    "     .sort_values(by=\"size_MB\")      \n",
    "     .applymap(lambda x: \"{:,.0f}\".format(x)).to_markdown())"
   ]
  },
  {
   "cell_type": "code",
   "execution_count": 70,
   "metadata": {},
   "outputs": [
    {
     "name": "stdout",
     "output_type": "stream",
     "text": [
      "| domain   | s      | max_rss   | size_MB   |\n",
      "|:---------|:-------|:----------|:----------|\n",
      "| viral    | 126    | 326       | 77        |\n",
      "| archaea  | 111    | 217       | 100       |\n",
      "| protozoa | 206    | 753       | 302       |\n",
      "| fungi    | 1,161  | 3,364     | 1,585     |\n",
      "| bacteria | 32,576 | 47,445    | 24,639    |\n"
     ]
    }
   ],
   "source": [
    "print(full.query('source==\"genbank\" & k==21 & index==\"sbt\"')\n",
    "     .set_index([\"domain\"])[['s', 'max_rss', 'size_MB']]\n",
    "     .sort_values(by=\"size_MB\")\n",
    "     .applymap(lambda x: \"{:,.0f}\".format(x)).to_markdown())"
   ]
  },
  {
   "cell_type": "code",
   "execution_count": 19,
   "metadata": {},
   "outputs": [
    {
     "data": {
      "image/png": "[encoded data removed]",
      "text/plain": [
       "<Figure size 576x288 with 1 Axes>"
      ]
     },
     "metadata": {},
     "output_type": "display_data"
    }
   ],
   "source": [
    "with FigureManager(figsize=(8, 4), show=True) as (fig, ax):\n",
    "    #sns.boxenplot(data=full[full['source']=='genbank'], y='s', x='domain', hue='index', ax=ax)\n",
    "    sns.barplot(data=full.query(\"source == 'genbank' & k == 21 & domain != 'bacteria' & domain != 'fungi'\"), y='size_KB', x='domain', hue='index', ax=ax)\n",
    "    #ax.set_yscale('log')"
   ]
  },
  {
   "cell_type": "code",
   "execution_count": 6,
   "metadata": {},
   "outputs": [
    {
     "data": {
      "image/png": "[encoded data removed]",
      "text/plain": [
       "<Figure size 576x288 with 1 Axes>"
      ]
     },
     "metadata": {},
     "output_type": "display_data"
    }
   ],
   "source": [
    "with FigureManager(figsize=(8, 4), show=True) as (fig, ax):\n",
    "    #sns.boxenplot(data=full[full['source']=='genbank'], y='s', x='domain', hue='index', ax=ax)\n",
    "    sns.barplot(data=full.query(\"source == 'genbank' & k == 21\"), y='s', x='domain', hue='index', ax=ax)\n",
    "    ax.set_yscale('log')"
   ]
  },
  {
   "cell_type": "code",
   "execution_count": 12,
   "metadata": {},
   "outputs": [
    {
     "data": {
      "image/png": "[encoded data removed]",
      "text/plain": [
       "<Figure size 576x288 with 1 Axes>"
      ]
     },
     "metadata": {},
     "output_type": "display_data"
    }
   ],
   "source": [
    "with FigureManager(figsize=(8, 4), show=True) as (fig, ax):\n",
    "    #sns.boxenplot(data=full[full['source']=='genbank'], y='s', x='domain', hue='index', ax=ax)\n",
    "    sns.barplot(data=full.query(\"source == 'genbank' & k == 21 & domain != 'bacteria' & domain != 'fungi'\"), y='max_rss', x='domain', hue='index', ax=ax)\n",
    "    #ax.set_yscale('log')"
   ]
  },
  {
   "cell_type": "code",
   "execution_count": 9,
   "metadata": {},
   "outputs": [
    {
     "data": {
      "image/png": "[encoded data removed]",
      "text/plain": [
       "<Figure size 576x288 with 1 Axes>"
      ]
     },
     "metadata": {},
     "output_type": "display_data"
    }
   ],
   "source": [
    "with FigureManager(figsize=(8, 4), show=True) as (fig, ax):\n",
    "    #sns.boxenplot(data=full[full['source']=='genbank'], y='s', x='domain', hue='index', ax=ax)\n",
    "    sns.barplot(data=full.query(\"source == 'genbank' & k == 21 & domain != 'bacteria'\"), y='s', x='domain', hue='index', ax=ax)\n",
    "    #ax.set_yscale('log')"
   ]
  },
  {
   "cell_type": "code",
   "execution_count": 77,
   "metadata": {},
   "outputs": [
    {
     "data": {
      "image/png": "[encoded data removed]",
      "text/plain": [
       "<Figure size 576x288 with 1 Axes>"
      ]
     },
     "metadata": {},
     "output_type": "display_data"
    }
   ],
   "source": [
    "with FigureManager(figsize=(8, 4), show=True) as (fig, ax):\n",
    "    sns.boxenplot(data=full[full['source']=='refseq'], y='s', x='domain', hue='index', ax=ax)\n",
    "    ax.set_yscale('log')"
   ]
  },
  {
   "cell_type": "code",
   "execution_count": 80,
   "metadata": {},
   "outputs": [
    {
     "data": {
      "image/png": "[encoded data removed]",
      "text/plain": [
       "<Figure size 576x288 with 1 Axes>"
      ]
     },
     "metadata": {},
     "output_type": "display_data"
    }
   ],
   "source": [
    "with FigureManager(figsize=(8, 4), show=True) as (fig, ax):\n",
    "    sns.boxenplot(data=full, y='max_rss', x='domain', hue='index', ax=ax)\n",
    "    ax.set_yscale('log')"
   ]
  },
  {
   "cell_type": "markdown",
   "metadata": {},
   "source": [
    "# Searching"
   ]
  },
  {
   "cell_type": "code",
   "execution_count": 134,
   "metadata": {},
   "outputs": [],
   "source": [
    "all_resources = {}\n",
    "\n",
    "for domain in ('archaea', 'bacteria', 'fungi', 'protozoa', 'viral'):\n",
    "    for index in (\"lca\", \"sbt\"):\n",
    "        fp = Path(f\"timings/{domain}_{index}.txt\").read_text()\n",
    "        d = dict(l.strip().split(\":\")[:2] for l in fp.split('\\n') if l)\n",
    "        new_d = {}\n",
    "\n",
    "        new_d['runtime_s'] = float(d['User time (seconds)']) + float(d['System time (seconds)'])\n",
    "        new_d['mem_kb'] = int(d['Maximum resident set size (kbytes)'])\n",
    "        new_d['index'] = index\n",
    "        new_d['domain'] = domain\n",
    "        \n",
    "        for k in new_d:\n",
    "            if k in all_resources:\n",
    "                all_resources[k] += [new_d[k]]\n",
    "            else:\n",
    "                all_resources[k] = [new_d[k]]\n",
    "\n",
    "df = pd.DataFrame(all_resources)"
   ]
  },
  {
   "cell_type": "code",
   "execution_count": 135,
   "metadata": {},
   "outputs": [
    {
     "data": {
      "text/html": [
       "<div>\n",
       "<style scoped>\n",
       "    .dataframe tbody tr th:only-of-type {\n",
       "        vertical-align: middle;\n",
       "    }\n",
       "\n",
       "    .dataframe tbody tr th {\n",
       "        vertical-align: top;\n",
       "    }\n",
       "\n",
       "    .dataframe thead th {\n",
       "        text-align: right;\n",
       "    }\n",
       "</style>\n",
       "<table border=\"1\" class=\"dataframe\">\n",
       "  <thead>\n",
       "    <tr style=\"text-align: right;\">\n",
       "      <th></th>\n",
       "      <th>runtime_s</th>\n",
       "      <th>mem_kb</th>\n",
       "      <th>index</th>\n",
       "      <th>domain</th>\n",
       "    </tr>\n",
       "  </thead>\n",
       "  <tbody>\n",
       "    <tr>\n",
       "      <th>0</th>\n",
       "      <td>1.42</td>\n",
       "      <td>240088</td>\n",
       "      <td>lca</td>\n",
       "      <td>archaea</td>\n",
       "    </tr>\n",
       "    <tr>\n",
       "      <th>1</th>\n",
       "      <td>3.77</td>\n",
       "      <td>125280</td>\n",
       "      <td>sbt</td>\n",
       "      <td>archaea</td>\n",
       "    </tr>\n",
       "    <tr>\n",
       "      <th>2</th>\n",
       "      <td>231.26</td>\n",
       "      <td>20925984</td>\n",
       "      <td>lca</td>\n",
       "      <td>bacteria</td>\n",
       "    </tr>\n",
       "    <tr>\n",
       "      <th>3</th>\n",
       "      <td>3185.88</td>\n",
       "      <td>25589904</td>\n",
       "      <td>sbt</td>\n",
       "      <td>bacteria</td>\n",
       "    </tr>\n",
       "    <tr>\n",
       "      <th>4</th>\n",
       "      <td>26.92</td>\n",
       "      <td>3274388</td>\n",
       "      <td>lca</td>\n",
       "      <td>fungi</td>\n",
       "    </tr>\n",
       "    <tr>\n",
       "      <th>5</th>\n",
       "      <td>244.77</td>\n",
       "      <td>1655788</td>\n",
       "      <td>sbt</td>\n",
       "      <td>fungi</td>\n",
       "    </tr>\n",
       "    <tr>\n",
       "      <th>6</th>\n",
       "      <td>5.40</td>\n",
       "      <td>797816</td>\n",
       "      <td>lca</td>\n",
       "      <td>protozoa</td>\n",
       "    </tr>\n",
       "    <tr>\n",
       "      <th>7</th>\n",
       "      <td>43.51</td>\n",
       "      <td>332080</td>\n",
       "      <td>sbt</td>\n",
       "      <td>protozoa</td>\n",
       "    </tr>\n",
       "    <tr>\n",
       "      <th>8</th>\n",
       "      <td>1.06</td>\n",
       "      <td>223484</td>\n",
       "      <td>lca</td>\n",
       "      <td>viral</td>\n",
       "    </tr>\n",
       "    <tr>\n",
       "      <th>9</th>\n",
       "      <td>1.32</td>\n",
       "      <td>162628</td>\n",
       "      <td>sbt</td>\n",
       "      <td>viral</td>\n",
       "    </tr>\n",
       "  </tbody>\n",
       "</table>\n",
       "</div>"
      ],
      "text/plain": [
       "   runtime_s    mem_kb index    domain\n",
       "0       1.42    240088   lca   archaea\n",
       "1       3.77    125280   sbt   archaea\n",
       "2     231.26  20925984   lca  bacteria\n",
       "3    3185.88  25589904   sbt  bacteria\n",
       "4      26.92   3274388   lca     fungi\n",
       "5     244.77   1655788   sbt     fungi\n",
       "6       5.40    797816   lca  protozoa\n",
       "7      43.51    332080   sbt  protozoa\n",
       "8       1.06    223484   lca     viral\n",
       "9       1.32    162628   sbt     viral"
      ]
     },
     "execution_count": 135,
     "metadata": {},
     "output_type": "execute_result"
    }
   ],
   "source": [
    "df"
   ]
  },
  {
   "cell_type": "code",
   "execution_count": 136,
   "metadata": {},
   "outputs": [
    {
     "name": "stdout",
     "output_type": "stream",
     "text": [
      "|           | viral      | archaea    | protozoa   | fungi        | bacteria      |\n",
      "|:----------|:-----------|:-----------|:-----------|:-------------|:--------------|\n",
      "| runtime_s | 1.06       | 1.42       | 5.40       | 26.92        | 231.26        |\n",
      "| mem_kb    | 223,484.00 | 240,088.00 | 797,816.00 | 3,274,388.00 | 20,925,984.00 |\n",
      "\n",
      "|           | viral      | archaea    | protozoa   | fungi        | bacteria      |\n",
      "|:----------|:-----------|:-----------|:-----------|:-------------|:--------------|\n",
      "| runtime_s | 1.32       | 3.77       | 43.51      | 244.77       | 3,185.88      |\n",
      "| mem_kb    | 162,628.00 | 125,280.00 | 332,080.00 | 1,655,788.00 | 25,589,904.00 |\n"
     ]
    }
   ],
   "source": [
    "print(df.query('index==\"lca\"')\n",
    "     .set_index([\"domain\"])[['runtime_s', 'mem_kb']]\n",
    "     .sort_values(by=\"runtime_s\").T\n",
    "     .applymap(lambda x: \"{:,.2f}\".format(x)).to_markdown())\n",
    "print()\n",
    "print(df.query('index==\"sbt\"')\n",
    "     .set_index([\"domain\"])[['runtime_s', 'mem_kb']]\n",
    "     .sort_values(by=\"runtime_s\").T\n",
    "     .applymap(lambda x: \"{:,.2f}\".format(x)).to_markdown())"
   ]
  },
  {
   "cell_type": "code",
   "execution_count": null,
   "metadata": {},
   "outputs": [],
   "source": [
    "print(df.query('index==\"lca\"  & domain != \"bacteria\"')\n",
    "     .set_index([\"domain\"])[['runtime_s', 'mem_kb']]\n",
    "     .sort_values(by=\"runtime_s\")\n",
    "     .applymap(lambda x: \"{:,.2f}\".format(x)).to_markdown())\n",
    "print()\n",
    "print(df.query('index==\"sbt\" & domain != \"bacteria\"')\n",
    "     .set_index([\"domain\"])[['runtime_s', 'mem_kb']]\n",
    "     .sort_values(by=\"runtime_s\")\n",
    "     .applymap(lambda x: \"{:,.2f}\".format(x)).to_markdown())"
   ]
  },
  {
   "cell_type": "code",
   "execution_count": 115,
   "metadata": {},
   "outputs": [
    {
     "data": {
      "image/png": "[encoded data removed]",
      "text/plain": [
       "<Figure size 576x288 with 1 Axes>"
      ]
     },
     "metadata": {},
     "output_type": "display_data"
    }
   ],
   "source": [
    "with FigureManager(figsize=(8, 4), show=True) as (fig, ax):\n",
    "    sns.barplot(data=df.query('domain != \"bacteria\"'), y='runtime_s', x='domain', hue='index', ax=ax)\n",
    "    #ax.set_yscale('log')"
   ]
  },
  {
   "cell_type": "code",
   "execution_count": 114,
   "metadata": {},
   "outputs": [
    {
     "data": {
      "image/png": "[encoded data removed]",
      "text/plain": [
       "<Figure size 576x288 with 1 Axes>"
      ]
     },
     "metadata": {},
     "output_type": "display_data"
    }
   ],
   "source": [
    "with FigureManager(figsize=(8, 4), show=True) as (fig, ax):\n",
    "    sns.barplot(data=df.query('domain != \"bacteria\"'), y='mem_kb', x='domain', hue='index', ax=ax)\n",
    "    #ax.set_yscale('log')"
   ]
  },
  {
   "cell_type": "code",
   "execution_count": null,
   "metadata": {},
   "outputs": [],
   "source": []
  }
 ],
 "metadata": {
  "kernelspec": {
   "display_name": "Python [conda env:thesis] *",
   "language": "python",
   "name": "conda-env-thesis-py"
  },
  "language_info": {
   "codemirror_mode": {
    "name": "ipython",
    "version": 3
   },
   "file_extension": ".py",
   "mimetype": "text/x-python",
   "name": "python",
   "nbconvert_exporter": "python",
   "pygments_lexer": "ipython3",
   "version": "3.7.8"
  }
 },
 "nbformat": 4,
 "nbformat_minor": 4
}
