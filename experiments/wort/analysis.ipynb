{
 "cells": [
  {
   "cell_type": "code",
   "execution_count": 1,
   "metadata": {},
   "outputs": [],
   "source": [
    "import os\n",
    "\n",
    "%matplotlib inline\n",
    "%config InlineBackend.close_figures = False\n",
    "\n",
    "import numpy as np\n",
    "import matplotlib.pyplot as plt\n",
    "import pandas as pd\n",
    "import seaborn as sns\n",
    "from ficus import FigureManager\n",
    "\n",
    "sns.set()"
   ]
  },
  {
   "cell_type": "code",
   "execution_count": 2,
   "metadata": {},
   "outputs": [],
   "source": [
    "def process_done():\n",
    "    done_sigs = pd.read_table(\"done_sigs\", sep=\"\\t\", names=[\"Run\", \"size_KB\", \"seconds\"])\n",
    "    done_sigs[\"Run\"] = done_sigs[\"Run\"].str.replace(r\".*/(?P<id>\\w+).sig\", lambda m: m.group(\"id\"))\n",
    "    done_sigs[\"size_MB\"] = done_sigs[\"size_KB\"] / 1024\n",
    "    del done_sigs[\"size_KB\"]\n",
    "    done_sigs['seconds'] = pd.to_datetime(done_sigs['seconds'].astype(int) * (10**9))\n",
    "    done_sigs = done_sigs.set_index(\"Run\")\n",
    "\n",
    "    return done_sigs\n",
    "\n",
    "\n",
    "def process(metadata, done):\n",
    "    missing = metadata.drop_duplicates(subset=[\"Run\"]).set_index(\"Run\").reindex(set(metadata[\"Run\"]).difference(set(done.index)))\n",
    "    missing = missing[missing[\"size_MB\"] > 0]\n",
    "\n",
    "    completed = metadata.drop_duplicates(subset=[\"Run\"]).set_index(\"Run\").reindex(set(done.index))\n",
    "    completed = completed[completed[\"size_MB\"] > 0]\n",
    "\n",
    "    return metadata, missing, completed\n",
    "\n",
    "def summary(metadata, missing, completed):\n",
    "    all_desc = metadata[metadata[\"size_MB\"] > 0].describe()\n",
    "    all_desc.columns = [\"all\"]\n",
    "    all_desc[\"missing\"] = missing.describe()\n",
    "    all_desc[\"completed\"] = completed.describe()\n",
    "\n",
    "    sum_df = pd.DataFrame([[metadata['size_MB'].sum(),\n",
    "                            missing['size_MB'].sum(),\n",
    "                            completed['size_MB'].sum()]],\n",
    "                          columns=all_desc.columns,\n",
    "                          index=[\"sum\"])\n",
    "\n",
    "    print(all_desc.append(sum_df).applymap(lambda x: \"{:,.0f}\".format(x)))\n",
    "\n",
    "    print()\n",
    "    print(\"max:\")\n",
    "    print(missing.loc[missing.idxmax()].applymap(lambda x: \"{:,.0f}\".format(x)))\n",
    "    \n",
    "def missing_info(metadata, missing):\n",
    "    print(f\"missing: {len(missing.query('size_MB > 10000'))}\")\n",
    "    print(missing.query('size_MB > 10000').sum())\n",
    "    \n",
    "    with FigureManager(figsize=(10, 8), show=True) as (fig, ax):\n",
    "        sns.histplot(metadata[\"size_MB\"], kde=False, ax=ax, bins=range(1, 20000, 100))    \n",
    "        sns.histplot(missing[\"size_MB\"], kde=False, ax=ax, bins=range(1, 20000, 100), color=\"red\")\n",
    "        ax.set_ylim(1, 200)\n",
    "        #ax.set_yscale('log')\n",
    "        #sns.swarmplot(data=missing, y=\"size_MB\", color=\".2\", ax=ax)"
   ]
  },
  {
   "cell_type": "markdown",
   "metadata": {},
   "source": [
    "## metagenomes (source)"
   ]
  },
  {
   "cell_type": "code",
   "execution_count": 3,
   "metadata": {},
   "outputs": [],
   "source": [
    "metadata = pd.read_table(\"metagenomes_source-20200929.csv\", sep=',', usecols=[\"Run\", \"size_MB\"])"
   ]
  },
  {
   "cell_type": "code",
   "execution_count": 4,
   "metadata": {},
   "outputs": [
    {
     "name": "stdout",
     "output_type": "stream",
     "text": [
      "               all     missing    completed\n",
      "count      528,976      35,213      493,763\n",
      "mean           906         672          923\n",
      "std          2,849       2,066        2,896\n",
      "min              1           1            1\n",
      "25%              7          13            7\n",
      "50%             58         299           50\n",
      "75%            673         840          626\n",
      "max        170,085     121,276      170,085\n",
      "sum    479,169,252  23,646,445  455,522,807\n",
      "\n",
      "max:\n",
      "             size_MB\n",
      "Run                 \n",
      "SRR10158848  121,276\n"
     ]
    }
   ],
   "source": [
    "done_sigs = process_done()\n",
    "metagenomes, missing, completed = process(metadata, done_sigs)\n",
    "\n",
    "summary(metagenomes, missing, completed)"
   ]
  },
  {
   "cell_type": "code",
   "execution_count": 5,
   "metadata": {},
   "outputs": [
    {
     "name": "stdout",
     "output_type": "stream",
     "text": [
      "               all     missing    completed\n",
      "count      528,976      35,213      493,763\n",
      "mean           906         672          923\n",
      "std          2,849       2,066        2,896\n",
      "min              1           1            1\n",
      "25%              7          13            7\n",
      "50%             58         299           50\n",
      "75%            673         840          626\n",
      "max        170,085     121,276      170,085\n",
      "sum    479,169,252  23,646,445  455,522,807\n",
      "\n",
      "max:\n",
      "             size_MB\n",
      "Run                 \n",
      "SRR10158848  121,276\n"
     ]
    }
   ],
   "source": [
    "done_sigs = process_done()\n",
    "metagenomes, missing, completed = process(metadata, done_sigs)\n",
    "\n",
    "summary(metagenomes, missing, completed)"
   ]
  },
  {
   "cell_type": "code",
   "execution_count": 6,
   "metadata": {},
   "outputs": [
    {
     "name": "stdout",
     "output_type": "stream",
     "text": [
      "missing: 139\n",
      "size_MB    3241683\n",
      "dtype: int64\n"
     ]
    },
    {
     "data": {
      "image/png": "[encoded data removed]",
      "text/plain": [
       "<Figure size 720x576 with 1 Axes>"
      ]
     },
     "metadata": {},
     "output_type": "display_data"
    }
   ],
   "source": [
    "missing_info(metagenomes, missing)"
   ]
  },
  {
   "cell_type": "code",
   "execution_count": 7,
   "metadata": {},
   "outputs": [
    {
     "name": "stderr",
     "output_type": "stream",
     "text": [
      "/home/luizirber/miniconda3/envs/thesis/lib/python3.7/site-packages/seaborn/distributions.py:2551: FutureWarning: `distplot` is a deprecated function and will be removed in a future version. Please adapt your code to use either `displot` (a figure-level function with similar flexibility) or `histplot` (an axes-level function for histograms).\n",
      "  warnings.warn(msg, FutureWarning)\n"
     ]
    },
    {
     "data": {
      "image/png": "[encoded data removed]",
      "text/plain": [
       "<Figure size 720x576 with 1 Axes>"
      ]
     },
     "metadata": {},
     "output_type": "display_data"
    }
   ],
   "source": [
    "with FigureManager(figsize=(10, 8), show=True) as (fig, ax):\n",
    "    sns.distplot(metagenomes[\"size_MB\"], kde=False, ax=ax, bins=range(1, 175000, 1000))\n",
    "    ax.set_yscale('log')\n",
    "    #sns.swarmplot(data=missing, y=\"size_MB\", color=\".2\", ax=ax)"
   ]
  },
  {
   "cell_type": "markdown",
   "metadata": {},
   "source": [
    "## Microbial"
   ]
  },
  {
   "cell_type": "code",
   "execution_count": 8,
   "metadata": {},
   "outputs": [
    {
     "name": "stdout",
     "output_type": "stream",
     "text": [
      "               all     missing    completed\n",
      "count    1,193,427       1,737    1,191,690\n",
      "mean           295       8,059          284\n",
      "std            750       6,601          642\n",
      "min              1           2            1\n",
      "25%            117       4,310          117\n",
      "50%            192       6,799          192\n",
      "75%            288      10,075          287\n",
      "max         93,265      93,265       72,445\n",
      "sum    352,552,304  13,998,374  338,553,930\n",
      "\n",
      "max:\n",
      "           size_MB\n",
      "Run               \n",
      "SRR7412678  93,265\n"
     ]
    }
   ],
   "source": [
    "metadata = pd.read_table(\"microbial_new_20200603.csv\", sep=',', usecols=[\"Run\", \"size_MB\"])\n",
    "\n",
    "done_sigs = process_done()\n",
    "microbial, missing, completed = process(metadata, done_sigs)\n",
    "\n",
    "summary(microbial, missing, completed)"
   ]
  },
  {
   "cell_type": "code",
   "execution_count": 9,
   "metadata": {},
   "outputs": [
    {
     "name": "stdout",
     "output_type": "stream",
     "text": [
      "               all     missing    completed\n",
      "count    1,193,427       1,737    1,191,690\n",
      "mean           295       8,059          284\n",
      "std            750       6,601          642\n",
      "min              1           2            1\n",
      "25%            117       4,310          117\n",
      "50%            192       6,799          192\n",
      "75%            288      10,075          287\n",
      "max         93,265      93,265       72,445\n",
      "sum    352,552,304  13,998,374  338,553,930\n",
      "\n",
      "max:\n",
      "           size_MB\n",
      "Run               \n",
      "SRR7412678  93,265\n"
     ]
    }
   ],
   "source": [
    "done_sigs = process_done()\n",
    "microbial, missing, completed = process(metadata, done_sigs)\n",
    "\n",
    "summary(microbial, missing, completed)"
   ]
  },
  {
   "cell_type": "code",
   "execution_count": 10,
   "metadata": {},
   "outputs": [
    {
     "name": "stdout",
     "output_type": "stream",
     "text": [
      "missing: 445\n",
      "size_MB    6841250\n",
      "dtype: int64\n"
     ]
    },
    {
     "data": {
      "image/png": "[encoded data removed]",
      "text/plain": [
       "<Figure size 720x576 with 1 Axes>"
      ]
     },
     "metadata": {},
     "output_type": "display_data"
    }
   ],
   "source": [
    "missing_info(microbial, missing)"
   ]
  },
  {
   "cell_type": "markdown",
   "metadata": {},
   "source": [
    "## Not plants or animals"
   ]
  },
  {
   "cell_type": "code",
   "execution_count": 11,
   "metadata": {},
   "outputs": [
    {
     "name": "stdout",
     "output_type": "stream",
     "text": [
      "               all      missing    completed\n",
      "count    1,770,502       62,789    1,707,713\n",
      "mean           385        1,939          328\n",
      "std          1,337        4,536        1,002\n",
      "min              1            1            1\n",
      "25%             86          146           85\n",
      "50%            179          285          177\n",
      "75%            304        1,853          298\n",
      "max        209,497      209,497       82,418\n",
      "sum    681,848,751  121,734,567  560,114,184\n",
      "\n",
      "max:\n",
      "           size_MB\n",
      "Run               \n",
      "SRR066134  209,497\n"
     ]
    }
   ],
   "source": [
    "metadata = pd.read_table(\"no_plants_animals_20201014.csv\", sep=',', usecols=[\"Run\", \"size_MB\"])\n",
    "\n",
    "done_sigs = process_done()\n",
    "not_plants_animals, missing, completed = process(metadata, done_sigs)\n",
    "\n",
    "summary(not_plants_animals, missing, completed)"
   ]
  },
  {
   "cell_type": "code",
   "execution_count": 12,
   "metadata": {},
   "outputs": [
    {
     "name": "stdout",
     "output_type": "stream",
     "text": [
      "               all      missing    completed\n",
      "count    1,770,502       62,789    1,707,713\n",
      "mean           385        1,939          328\n",
      "std          1,337        4,536        1,002\n",
      "min              1            1            1\n",
      "25%             86          146           85\n",
      "50%            179          285          177\n",
      "75%            304        1,853          298\n",
      "max        209,497      209,497       82,418\n",
      "sum    681,848,751  121,734,567  560,114,184\n",
      "\n",
      "max:\n",
      "           size_MB\n",
      "Run               \n",
      "SRR066134  209,497\n"
     ]
    }
   ],
   "source": [
    "done_sigs = process_done()\n",
    "not_plants_animals, missing, completed = process(metadata, done_sigs)\n",
    "\n",
    "summary(not_plants_animals, missing, completed)"
   ]
  },
  {
   "cell_type": "code",
   "execution_count": 13,
   "metadata": {},
   "outputs": [
    {
     "name": "stdout",
     "output_type": "stream",
     "text": [
      "missing: 2375\n",
      "size_MB    44043790\n",
      "dtype: int64\n"
     ]
    },
    {
     "data": {
      "image/png": "[encoded data removed]",
      "text/plain": [
       "<Figure size 720x576 with 1 Axes>"
      ]
     },
     "metadata": {},
     "output_type": "display_data"
    }
   ],
   "source": [
    "missing_info(not_plants_animals, missing)"
   ]
  },
  {
   "cell_type": "code",
   "execution_count": 14,
   "metadata": {},
   "outputs": [
    {
     "name": "stderr",
     "output_type": "stream",
     "text": [
      "/home/luizirber/miniconda3/envs/thesis/lib/python3.7/site-packages/seaborn/distributions.py:2551: FutureWarning: `distplot` is a deprecated function and will be removed in a future version. Please adapt your code to use either `displot` (a figure-level function with similar flexibility) or `histplot` (an axes-level function for histograms).\n",
      "  warnings.warn(msg, FutureWarning)\n"
     ]
    },
    {
     "data": {
      "image/png": "[encoded data removed]",
      "text/plain": [
       "<Figure size 720x576 with 1 Axes>"
      ]
     },
     "metadata": {},
     "output_type": "display_data"
    }
   ],
   "source": [
    "with FigureManager(figsize=(10, 8), show=True) as (fig, ax):\n",
    "    sns.distplot(not_plants_animals[\"size_MB\"], kde=False, ax=ax, bins=range(1, 3000, 25))\n",
    "    #sns.swarmplot(data=missing, y=\"size_MB\", color=\".2\", ax=ax)"
   ]
  },
  {
   "cell_type": "markdown",
   "metadata": {},
   "source": [
    "## RefSeq"
   ]
  },
  {
   "cell_type": "code",
   "execution_count": 26,
   "metadata": {},
   "outputs": [],
   "source": [
    "metadata = pd.read_table(\"assembly_summary_refseq.txt\",\n",
    "                         usecols=[\"# assembly_accession\"],#, \"size_MB\"],\n",
    "                         skiprows=1\n",
    "                        )"
   ]
  },
  {
   "cell_type": "code",
   "execution_count": 27,
   "metadata": {},
   "outputs": [
    {
     "data": {
      "text/html": [
       "<div>\n",
       "<style scoped>\n",
       "    .dataframe tbody tr th:only-of-type {\n",
       "        vertical-align: middle;\n",
       "    }\n",
       "\n",
       "    .dataframe tbody tr th {\n",
       "        vertical-align: top;\n",
       "    }\n",
       "\n",
       "    .dataframe thead th {\n",
       "        text-align: right;\n",
       "    }\n",
       "</style>\n",
       "<table border=\"1\" class=\"dataframe\">\n",
       "  <thead>\n",
       "    <tr style=\"text-align: right;\">\n",
       "      <th></th>\n",
       "      <th># assembly_accession</th>\n",
       "    </tr>\n",
       "  </thead>\n",
       "  <tbody>\n",
       "    <tr>\n",
       "      <th>0</th>\n",
       "      <td>GCF_000001215.4</td>\n",
       "    </tr>\n",
       "    <tr>\n",
       "      <th>1</th>\n",
       "      <td>GCF_000001405.39</td>\n",
       "    </tr>\n",
       "    <tr>\n",
       "      <th>2</th>\n",
       "      <td>GCF_000001635.26</td>\n",
       "    </tr>\n",
       "    <tr>\n",
       "      <th>3</th>\n",
       "      <td>GCF_000001735.4</td>\n",
       "    </tr>\n",
       "    <tr>\n",
       "      <th>4</th>\n",
       "      <td>GCF_000001895.5</td>\n",
       "    </tr>\n",
       "    <tr>\n",
       "      <th>...</th>\n",
       "      <td>...</td>\n",
       "    </tr>\n",
       "    <tr>\n",
       "      <th>204946</th>\n",
       "      <td>GCF_903645325.1</td>\n",
       "    </tr>\n",
       "    <tr>\n",
       "      <th>204947</th>\n",
       "      <td>GCF_903645345.1</td>\n",
       "    </tr>\n",
       "    <tr>\n",
       "      <th>204948</th>\n",
       "      <td>GCF_903645355.1</td>\n",
       "    </tr>\n",
       "    <tr>\n",
       "      <th>204949</th>\n",
       "      <td>GCF_903652925.1</td>\n",
       "    </tr>\n",
       "    <tr>\n",
       "      <th>204950</th>\n",
       "      <td>GCF_903679515.1</td>\n",
       "    </tr>\n",
       "  </tbody>\n",
       "</table>\n",
       "<p>204951 rows × 1 columns</p>\n",
       "</div>"
      ],
      "text/plain": [
       "       # assembly_accession\n",
       "0           GCF_000001215.4\n",
       "1          GCF_000001405.39\n",
       "2          GCF_000001635.26\n",
       "3           GCF_000001735.4\n",
       "4           GCF_000001895.5\n",
       "...                     ...\n",
       "204946      GCF_903645325.1\n",
       "204947      GCF_903645345.1\n",
       "204948      GCF_903645355.1\n",
       "204949      GCF_903652925.1\n",
       "204950      GCF_903679515.1\n",
       "\n",
       "[204951 rows x 1 columns]"
      ]
     },
     "execution_count": 27,
     "metadata": {},
     "output_type": "execute_result"
    }
   ],
   "source": [
    "metadata"
   ]
  },
  {
   "cell_type": "code",
   "execution_count": 21,
   "metadata": {},
   "outputs": [
    {
     "name": "stdout",
     "output_type": "stream",
     "text": [
      "#   See ftp://ftp.ncbi.nlm.nih.gov/genomes/README_assembly_summary.txt for a description of the columns in this file.\n",
      "# assembly_accession\tbioproject\tbiosample\twgs_master\trefseq_category\ttaxid\tspecies_taxid\torganism_name\tinfraspecific_name\tisolate\tversion_status\tassembly_level\trelease_type\tgenome_rep\tseq_rel_date\tasm_name\tsubmitter\tgbrs_paired_asm\tpaired_asm_comp\tftp_path\texcluded_from_refseq\trelation_to_type_material\n",
      "GCF_000001215.4\tPRJNA164\tSAMN02803731\t\treference genome\t7227\t7227\tDrosophila melanogaster\t\t\tlatest\tChromosome\tMajor\tFull\t2014/08/01\tRelease 6 plus ISO1 MT\tThe FlyBase Consortium/Berkeley Drosophila Genome Project/Celera Genomics\tGCA_000001215.4\tidentical\tftp://ftp.ncbi.nlm.nih.gov/genomes/all/GCF/000/001/215/GCF_000001215.4_Release_6_plus_ISO1_MT\t\t\n",
      "GCF_000001405.39\tPRJNA168\t\t\treference genome\t9606\t9606\tHomo sapiens\t\t\tlatest\tChromosome\tPatch\tFull\t2019/02/28\tGRCh38.p13\tGenome Reference Consortium\tGCA_000001405.28\tdifferent\tftp://ftp.ncbi.nlm.nih.gov/genomes/all/GCF/000/001/405/GCF_000001405.39_GRCh38.p13\t\t\n",
      "GCF_000001635.26\tPRJNA169\t\t\treference genome\t10090\t10090\tMus musculus\t\t\tlatest\tChromosome\tPatch\tFull\t2017/09/15\tGRCm38.p6\tGenome Reference Consortium\tGCA_000001635.8\tidentical\tftp://ftp.ncbi.nlm.nih.gov/genomes/all/GCF/000/001/635/GCF_000001635.26_GRCm38.p6\t\t\n",
      "GCF_000001735.4\tPRJNA116\tSAMN03081427\t\treference genome\t3702\t3702\tArabidopsis thaliana\tecotype=Columbia\t\tlatest\tChromosome\tMinor\tFull\t2018/03/15\tTAIR10.1\tThe Arabidopsis Information Resource (TAIR)\tGCA_000001735.2\tidentical\tftp://ftp.ncbi.nlm.nih.gov/genomes/all/GCF/000/001/735/GCF_000001735.4_TAIR10.1\t\t\n",
      "GCF_000001895.5\tPRJNA12455\tSAMN02808228\tAABR00000000.7\trepresentative genome\t10116\t10116\tRattus norvegicus\tstrain=mixed\t\tlatest\tChromosome\tMajor\tFull\t2014/07/01\tRnor_6.0\tRat Genome Sequencing Consortium\tGCA_000001895.4\tidentical\tftp://ftp.ncbi.nlm.nih.gov/genomes/all/GCF/000/001/895/GCF_000001895.5_Rnor_6.0\t\t\n",
      "GCF_000001905.1\tPRJNA70973\tSAMN02953622\tAAGU00000000.3\trepresentative genome\t9785\t9785\tLoxodonta africana\t\tISIS603380\tlatest\tScaffold\tMajor\tFull\t2009/07/15\tLoxafr3.0\tBroad Institute\tGCA_000001905.1\tdifferent\tftp://ftp.ncbi.nlm.nih.gov/genomes/all/GCF/000/001/905/GCF_000001905.1_Loxafr3.0\t\t\n",
      "GCF_000001985.1\tPRJNA32665\tSAMN02953685\tABAR00000000.1\trepresentative genome\t441960\t37727\tTalaromyces marneffei ATCC 18224\tstrain=ATCC 18224\t\tlatest\tScaffold\tMajor\tFull\t2008/10/29\tJCVI-PMFA1-2.0\tJ. Craig Venter Institute\tGCA_000001985.1\tidentical\tftp://ftp.ncbi.nlm.nih.gov/genomes/all/GCF/000/001/985/GCF_000001985.1_JCVI-PMFA1-2.0\t\tassembly from type material\n",
      "GCF_000002035.6\tPRJNA13922\tSAMN06930106\t\treference genome\t7955\t7955\tDanio rerio\t\t\tlatest\tChromosome\tMajor\tFull\t2017/05/09\tGRCz11\tGenome Reference Consortium\tGCA_000002035.4\tdifferent\tftp://ftp.ncbi.nlm.nih.gov/genomes/all/GCF/000/002/035/GCF_000002035.6_GRCz11\t\t\n"
     ]
    }
   ],
   "source": [
    "!head assembly_summary_refseq.txt"
   ]
  },
  {
   "cell_type": "code",
   "execution_count": 17,
   "metadata": {},
   "outputs": [
    {
     "ename": "ValueError",
     "evalue": "Passed header names mismatches usecols",
     "output_type": "error",
     "traceback": [
      "\u001b[0;31m---------------------------------------------------------------------------\u001b[0m",
      "\u001b[0;31mValueError\u001b[0m                                Traceback (most recent call last)",
      "\u001b[0;32m<ipython-input-17-49d69719f5f9>\u001b[0m in \u001b[0;36m<module>\u001b[0;34m\u001b[0m\n\u001b[0;32m----> 1\u001b[0;31m \u001b[0mmetadata\u001b[0m \u001b[0;34m=\u001b[0m \u001b[0mpd\u001b[0m\u001b[0;34m.\u001b[0m\u001b[0mread_table\u001b[0m\u001b[0;34m(\u001b[0m\u001b[0;34m\"assembly_summary_refseq.txt\"\u001b[0m\u001b[0;34m,\u001b[0m \u001b[0musecols\u001b[0m\u001b[0;34m=\u001b[0m\u001b[0;34m[\u001b[0m\u001b[0;34m\"# accession number\"\u001b[0m\u001b[0;34m,\u001b[0m \u001b[0;34m\"size_MB\"\u001b[0m\u001b[0;34m]\u001b[0m\u001b[0;34m)\u001b[0m\u001b[0;34m\u001b[0m\u001b[0;34m\u001b[0m\u001b[0m\n\u001b[0m\u001b[1;32m      2\u001b[0m \u001b[0;34m\u001b[0m\u001b[0m\n\u001b[1;32m      3\u001b[0m \u001b[0mdone_sigs\u001b[0m \u001b[0;34m=\u001b[0m \u001b[0mprocess_done\u001b[0m\u001b[0;34m(\u001b[0m\u001b[0;34m)\u001b[0m\u001b[0;34m\u001b[0m\u001b[0;34m\u001b[0m\u001b[0m\n\u001b[1;32m      4\u001b[0m \u001b[0mrefseq\u001b[0m\u001b[0;34m,\u001b[0m \u001b[0mmissing\u001b[0m\u001b[0;34m,\u001b[0m \u001b[0mcompleted\u001b[0m \u001b[0;34m=\u001b[0m \u001b[0mprocess\u001b[0m\u001b[0;34m(\u001b[0m\u001b[0mmetadata\u001b[0m\u001b[0;34m,\u001b[0m \u001b[0mdone_sigs\u001b[0m\u001b[0;34m)\u001b[0m\u001b[0;34m\u001b[0m\u001b[0;34m\u001b[0m\u001b[0m\n\u001b[1;32m      5\u001b[0m \u001b[0;34m\u001b[0m\u001b[0m\n",
      "\u001b[0;32m~/miniconda3/envs/thesis/lib/python3.7/site-packages/pandas/io/parsers.py\u001b[0m in \u001b[0;36mparser_f\u001b[0;34m(filepath_or_buffer, sep, delimiter, header, names, index_col, usecols, squeeze, prefix, mangle_dupe_cols, dtype, engine, converters, true_values, false_values, skipinitialspace, skiprows, skipfooter, nrows, na_values, keep_default_na, na_filter, verbose, skip_blank_lines, parse_dates, infer_datetime_format, keep_date_col, date_parser, dayfirst, cache_dates, iterator, chunksize, compression, thousands, decimal, lineterminator, quotechar, quoting, doublequote, escapechar, comment, encoding, dialect, error_bad_lines, warn_bad_lines, delim_whitespace, low_memory, memory_map, float_precision)\u001b[0m\n\u001b[1;32m    674\u001b[0m         )\n\u001b[1;32m    675\u001b[0m \u001b[0;34m\u001b[0m\u001b[0m\n\u001b[0;32m--> 676\u001b[0;31m         \u001b[0;32mreturn\u001b[0m \u001b[0m_read\u001b[0m\u001b[0;34m(\u001b[0m\u001b[0mfilepath_or_buffer\u001b[0m\u001b[0;34m,\u001b[0m \u001b[0mkwds\u001b[0m\u001b[0;34m)\u001b[0m\u001b[0;34m\u001b[0m\u001b[0;34m\u001b[0m\u001b[0m\n\u001b[0m\u001b[1;32m    677\u001b[0m \u001b[0;34m\u001b[0m\u001b[0m\n\u001b[1;32m    678\u001b[0m     \u001b[0mparser_f\u001b[0m\u001b[0;34m.\u001b[0m\u001b[0m__name__\u001b[0m \u001b[0;34m=\u001b[0m \u001b[0mname\u001b[0m\u001b[0;34m\u001b[0m\u001b[0;34m\u001b[0m\u001b[0m\n",
      "\u001b[0;32m~/miniconda3/envs/thesis/lib/python3.7/site-packages/pandas/io/parsers.py\u001b[0m in \u001b[0;36m_read\u001b[0;34m(filepath_or_buffer, kwds)\u001b[0m\n\u001b[1;32m    446\u001b[0m \u001b[0;34m\u001b[0m\u001b[0m\n\u001b[1;32m    447\u001b[0m     \u001b[0;31m# Create the parser.\u001b[0m\u001b[0;34m\u001b[0m\u001b[0;34m\u001b[0m\u001b[0;34m\u001b[0m\u001b[0m\n\u001b[0;32m--> 448\u001b[0;31m     \u001b[0mparser\u001b[0m \u001b[0;34m=\u001b[0m \u001b[0mTextFileReader\u001b[0m\u001b[0;34m(\u001b[0m\u001b[0mfp_or_buf\u001b[0m\u001b[0;34m,\u001b[0m \u001b[0;34m**\u001b[0m\u001b[0mkwds\u001b[0m\u001b[0;34m)\u001b[0m\u001b[0;34m\u001b[0m\u001b[0;34m\u001b[0m\u001b[0m\n\u001b[0m\u001b[1;32m    449\u001b[0m \u001b[0;34m\u001b[0m\u001b[0m\n\u001b[1;32m    450\u001b[0m     \u001b[0;32mif\u001b[0m \u001b[0mchunksize\u001b[0m \u001b[0;32mor\u001b[0m \u001b[0miterator\u001b[0m\u001b[0;34m:\u001b[0m\u001b[0;34m\u001b[0m\u001b[0;34m\u001b[0m\u001b[0m\n",
      "\u001b[0;32m~/miniconda3/envs/thesis/lib/python3.7/site-packages/pandas/io/parsers.py\u001b[0m in \u001b[0;36m__init__\u001b[0;34m(self, f, engine, **kwds)\u001b[0m\n\u001b[1;32m    878\u001b[0m             \u001b[0mself\u001b[0m\u001b[0;34m.\u001b[0m\u001b[0moptions\u001b[0m\u001b[0;34m[\u001b[0m\u001b[0;34m\"has_index_names\"\u001b[0m\u001b[0;34m]\u001b[0m \u001b[0;34m=\u001b[0m \u001b[0mkwds\u001b[0m\u001b[0;34m[\u001b[0m\u001b[0;34m\"has_index_names\"\u001b[0m\u001b[0;34m]\u001b[0m\u001b[0;34m\u001b[0m\u001b[0;34m\u001b[0m\u001b[0m\n\u001b[1;32m    879\u001b[0m \u001b[0;34m\u001b[0m\u001b[0m\n\u001b[0;32m--> 880\u001b[0;31m         \u001b[0mself\u001b[0m\u001b[0;34m.\u001b[0m\u001b[0m_make_engine\u001b[0m\u001b[0;34m(\u001b[0m\u001b[0mself\u001b[0m\u001b[0;34m.\u001b[0m\u001b[0mengine\u001b[0m\u001b[0;34m)\u001b[0m\u001b[0;34m\u001b[0m\u001b[0;34m\u001b[0m\u001b[0m\n\u001b[0m\u001b[1;32m    881\u001b[0m \u001b[0;34m\u001b[0m\u001b[0m\n\u001b[1;32m    882\u001b[0m     \u001b[0;32mdef\u001b[0m \u001b[0mclose\u001b[0m\u001b[0;34m(\u001b[0m\u001b[0mself\u001b[0m\u001b[0;34m)\u001b[0m\u001b[0;34m:\u001b[0m\u001b[0;34m\u001b[0m\u001b[0;34m\u001b[0m\u001b[0m\n",
      "\u001b[0;32m~/miniconda3/envs/thesis/lib/python3.7/site-packages/pandas/io/parsers.py\u001b[0m in \u001b[0;36m_make_engine\u001b[0;34m(self, engine)\u001b[0m\n\u001b[1;32m   1112\u001b[0m     \u001b[0;32mdef\u001b[0m \u001b[0m_make_engine\u001b[0m\u001b[0;34m(\u001b[0m\u001b[0mself\u001b[0m\u001b[0;34m,\u001b[0m \u001b[0mengine\u001b[0m\u001b[0;34m=\u001b[0m\u001b[0;34m\"c\"\u001b[0m\u001b[0;34m)\u001b[0m\u001b[0;34m:\u001b[0m\u001b[0;34m\u001b[0m\u001b[0;34m\u001b[0m\u001b[0m\n\u001b[1;32m   1113\u001b[0m         \u001b[0;32mif\u001b[0m \u001b[0mengine\u001b[0m \u001b[0;34m==\u001b[0m \u001b[0;34m\"c\"\u001b[0m\u001b[0;34m:\u001b[0m\u001b[0;34m\u001b[0m\u001b[0;34m\u001b[0m\u001b[0m\n\u001b[0;32m-> 1114\u001b[0;31m             \u001b[0mself\u001b[0m\u001b[0;34m.\u001b[0m\u001b[0m_engine\u001b[0m \u001b[0;34m=\u001b[0m \u001b[0mCParserWrapper\u001b[0m\u001b[0;34m(\u001b[0m\u001b[0mself\u001b[0m\u001b[0;34m.\u001b[0m\u001b[0mf\u001b[0m\u001b[0;34m,\u001b[0m \u001b[0;34m**\u001b[0m\u001b[0mself\u001b[0m\u001b[0;34m.\u001b[0m\u001b[0moptions\u001b[0m\u001b[0;34m)\u001b[0m\u001b[0;34m\u001b[0m\u001b[0;34m\u001b[0m\u001b[0m\n\u001b[0m\u001b[1;32m   1115\u001b[0m         \u001b[0;32melse\u001b[0m\u001b[0;34m:\u001b[0m\u001b[0;34m\u001b[0m\u001b[0;34m\u001b[0m\u001b[0m\n\u001b[1;32m   1116\u001b[0m             \u001b[0;32mif\u001b[0m \u001b[0mengine\u001b[0m \u001b[0;34m==\u001b[0m \u001b[0;34m\"python\"\u001b[0m\u001b[0;34m:\u001b[0m\u001b[0;34m\u001b[0m\u001b[0;34m\u001b[0m\u001b[0m\n",
      "\u001b[0;32m~/miniconda3/envs/thesis/lib/python3.7/site-packages/pandas/io/parsers.py\u001b[0m in \u001b[0;36m__init__\u001b[0;34m(self, src, **kwds)\u001b[0m\n\u001b[1;32m   1889\u001b[0m         \u001b[0mkwds\u001b[0m\u001b[0;34m[\u001b[0m\u001b[0;34m\"usecols\"\u001b[0m\u001b[0;34m]\u001b[0m \u001b[0;34m=\u001b[0m \u001b[0mself\u001b[0m\u001b[0;34m.\u001b[0m\u001b[0musecols\u001b[0m\u001b[0;34m\u001b[0m\u001b[0;34m\u001b[0m\u001b[0m\n\u001b[1;32m   1890\u001b[0m \u001b[0;34m\u001b[0m\u001b[0m\n\u001b[0;32m-> 1891\u001b[0;31m         \u001b[0mself\u001b[0m\u001b[0;34m.\u001b[0m\u001b[0m_reader\u001b[0m \u001b[0;34m=\u001b[0m \u001b[0mparsers\u001b[0m\u001b[0;34m.\u001b[0m\u001b[0mTextReader\u001b[0m\u001b[0;34m(\u001b[0m\u001b[0msrc\u001b[0m\u001b[0;34m,\u001b[0m \u001b[0;34m**\u001b[0m\u001b[0mkwds\u001b[0m\u001b[0;34m)\u001b[0m\u001b[0;34m\u001b[0m\u001b[0;34m\u001b[0m\u001b[0m\n\u001b[0m\u001b[1;32m   1892\u001b[0m         \u001b[0mself\u001b[0m\u001b[0;34m.\u001b[0m\u001b[0munnamed_cols\u001b[0m \u001b[0;34m=\u001b[0m \u001b[0mself\u001b[0m\u001b[0;34m.\u001b[0m\u001b[0m_reader\u001b[0m\u001b[0;34m.\u001b[0m\u001b[0munnamed_cols\u001b[0m\u001b[0;34m\u001b[0m\u001b[0;34m\u001b[0m\u001b[0m\n\u001b[1;32m   1893\u001b[0m \u001b[0;34m\u001b[0m\u001b[0m\n",
      "\u001b[0;32mpandas/_libs/parsers.pyx\u001b[0m in \u001b[0;36mpandas._libs.parsers.TextReader.__cinit__\u001b[0;34m()\u001b[0m\n",
      "\u001b[0;32mpandas/_libs/parsers.pyx\u001b[0m in \u001b[0;36mpandas._libs.parsers.TextReader._get_header\u001b[0;34m()\u001b[0m\n",
      "\u001b[0;31mValueError\u001b[0m: Passed header names mismatches usecols"
     ]
    }
   ],
   "source": [
    "done_sigs = process_done()\n",
    "refseq, missing, completed = process(metadata, done_sigs)\n",
    "\n",
    "summary(refseq, missing, completed)"
   ]
  },
  {
   "cell_type": "code",
   "execution_count": 18,
   "metadata": {},
   "outputs": [
    {
     "ename": "NameError",
     "evalue": "name 'refseq' is not defined",
     "output_type": "error",
     "traceback": [
      "\u001b[0;31m---------------------------------------------------------------------------\u001b[0m",
      "\u001b[0;31mNameError\u001b[0m                                 Traceback (most recent call last)",
      "\u001b[0;32m<ipython-input-18-f050e4f03875>\u001b[0m in \u001b[0;36m<module>\u001b[0;34m\u001b[0m\n\u001b[0;32m----> 1\u001b[0;31m \u001b[0mmissing_info\u001b[0m\u001b[0;34m(\u001b[0m\u001b[0mrefseq\u001b[0m\u001b[0;34m,\u001b[0m \u001b[0mmissing\u001b[0m\u001b[0;34m)\u001b[0m\u001b[0;34m\u001b[0m\u001b[0;34m\u001b[0m\u001b[0m\n\u001b[0m",
      "\u001b[0;31mNameError\u001b[0m: name 'refseq' is not defined"
     ]
    }
   ],
   "source": [
    "missing_info(refseq, missing)"
   ]
  },
  {
   "cell_type": "markdown",
   "metadata": {},
   "source": [
    "## Metagenome sizes"
   ]
  },
  {
   "cell_type": "code",
   "execution_count": null,
   "metadata": {},
   "outputs": [],
   "source": [
    "import scipy\n",
    "from scipy.stats import pareto\n",
    "import numpy as np"
   ]
  },
  {
   "cell_type": "code",
   "execution_count": null,
   "metadata": {},
   "outputs": [],
   "source": [
    "counts, bins = np.histogram(metagenomes[\"size_MB\"], bins=range(1, 175000, 10))"
   ]
  },
  {
   "cell_type": "code",
   "execution_count": null,
   "metadata": {},
   "outputs": [],
   "source": [
    "# reminder: http://bactra.org/weblog/491.html\n",
    "b, loc, scale = pareto.fit(metagenomes[\"size_MB\"])\n",
    "b, loc, scale"
   ]
  },
  {
   "cell_type": "code",
   "execution_count": null,
   "metadata": {},
   "outputs": [],
   "source": [
    "rv = pareto(b)"
   ]
  },
  {
   "cell_type": "code",
   "execution_count": null,
   "metadata": {},
   "outputs": [],
   "source": [
    "#mean, var, skew, kurt\n",
    "pareto.stats(b, moments='mvsk')"
   ]
  },
  {
   "cell_type": "code",
   "execution_count": null,
   "metadata": {},
   "outputs": [],
   "source": [
    "norm_counts = counts / np.linalg.norm(counts, ord=1)"
   ]
  },
  {
   "cell_type": "code",
   "execution_count": null,
   "metadata": {},
   "outputs": [],
   "source": [
    "with FigureManager(figsize=(10, 5), show=True) as (fig, ax):\n",
    "    plt.loglog(bins[:-1], norm_counts, 'x')\n",
    "    x = np.linspace(pareto.ppf(0.01, b),\n",
    "                    pareto.ppf(0.99, b), 100)\n",
    "    plt.loglog(bins[:-1], rv.pdf(bins[:-1]), 'r-', lw=5, alpha=0.6, label='pareto pdf')\n",
    "    #plt.loglog(bins[:-1], powlaw(bins[:-1], *popt), 'o')\n",
    "    #plt.loglog(bins[:-1], powlaw(bins[:-1], popt[0], -.9999999), '--')"
   ]
  },
  {
   "cell_type": "code",
   "execution_count": null,
   "metadata": {},
   "outputs": [],
   "source": [
    "with FigureManager(figsize=(10, 5), show=True, filename=\"../../thesis/figure/wortMetagSizes.png\") as (fig, ax):\n",
    "    ar = sorted(metagenomes[\"size_MB\"])#, reverse=True)\n",
    "    y = np.cumsum(ar).astype(\"float32\")  \n",
    "    y = np.hstack((0,y))\n",
    "    x = np.linspace(0, 100, y.size)\n",
    "    plt.plot(x,y)\n",
    "    plt.title(\"Cumulative sum of dataset sizes\")\n",
    "    plt.ylabel(\"cumulative size (MB)\")\n",
    "    plt.xlabel(\"percentage of total datasets (sorted by size)\")"
   ]
  },
  {
   "cell_type": "markdown",
   "metadata": {},
   "source": [
    "## Completion over time"
   ]
  },
  {
   "cell_type": "code",
   "execution_count": null,
   "metadata": {},
   "outputs": [],
   "source": [
    "with FigureManager(figsize=(10, 8), show=True) as (fig, ax):\n",
    "    sns.histplot(done_sigs['seconds'], kde=False, ax=ax, bins=770)\n",
    "    #ax.set_ylim(1, 500)\n",
    "    ax.set_yscale('log')\n",
    "    #sns.swarmplot(data=missing, y=\"size_MB\", color=\".2\", ax=ax)"
   ]
  },
  {
   "cell_type": "code",
   "execution_count": null,
   "metadata": {},
   "outputs": [],
   "source": [
    "with FigureManager(figsize=(10, 5), show=True) as (fig, ax):\n",
    "    ar = sorted(done_sigs[\"seconds\"])#, reverse=True)\n",
    "    y = np.cumsum(ar).astype(\"float32\")\n",
    "    y = np.hstack((0,y))\n",
    "    x = np.linspace(0, 100, y.size)\n",
    "    plt.plot(x,y)\n",
    "    plt.title(\"Cumulative sum of dataset sizes\")\n",
    "    plt.ylabel(\"cumulative size (MB)\")\n",
    "    plt.xlabel(\"percentage of total datasets (sorted by size)\")"
   ]
  },
  {
   "cell_type": "code",
   "execution_count": null,
   "metadata": {},
   "outputs": [],
   "source": [
    "done_sigs_metagenomes = metagenomes.drop_duplicates(subset=[\"Run\"]).set_index(\"Run\").reindex(set(metagenomes[\"Run\"]).intersection(set(done_sigs.index)))"
   ]
  },
  {
   "cell_type": "code",
   "execution_count": null,
   "metadata": {},
   "outputs": [],
   "source": [
    "done_sigs.reindex(done_sigs_metagenomes.index).sum()"
   ]
  }
 ],
 "metadata": {
  "kernelspec": {
   "display_name": "Python [conda env:thesis] *",
   "language": "python",
   "name": "conda-env-thesis-py"
  },
  "language_info": {
   "codemirror_mode": {
    "name": "ipython",
    "version": 3
   },
   "file_extension": ".py",
   "mimetype": "text/x-python",
   "name": "python",
   "nbconvert_exporter": "python",
   "pygments_lexer": "ipython3",
   "version": "3.7.8"
  }
 },
 "nbformat": 4,
 "nbformat_minor": 4
}
